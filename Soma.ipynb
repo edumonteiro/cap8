{
 "cells": [
  {
   "cell_type": "code",
   "execution_count": 2,
   "id": "final-oxygen",
   "metadata": {},
   "outputs": [
    {
     "name": "stdout",
     "output_type": "stream",
     "text": [
      "O texto de entrada tem tamanho  32\n"
     ]
    }
   ],
   "source": [
    "def apresenta_tamanho(texto):\n",
    "    tamanho = len(texto)\n",
    "    print(\"O texto de entrada tem tamanho \", tamanho)\n",
    "apresenta_tamanho(\"Meu texto para avaliar o tamanho\")\n"
   ]
  },
  {
   "cell_type": "markdown",
   "id": "digital-poverty",
   "metadata": {},
   "source": [
    "Exemplo de função recursiva para somar os inteiros de zero até um determinado inteiro n"
   ]
  },
  {
   "cell_type": "markdown",
   "id": "banner-volunteer",
   "metadata": {},
   "source": [
    "Lembrando que vamos trabalhar com o gerenciamento das versoes"
   ]
  },
  {
   "cell_type": "code",
   "execution_count": 4,
   "id": "resident-satellite",
   "metadata": {},
   "outputs": [
    {
     "data": {
      "text/plain": [
       "10"
      ]
     },
     "execution_count": 4,
     "metadata": {},
     "output_type": "execute_result"
    }
   ],
   "source": [
    "def soman(n):\n",
    "    if n == 0:\n",
    "        return 0\n",
    "    else:\n",
    "        return n + soman(n-1)\n",
    "soman(4)"
   ]
  }
 ],
 "metadata": {
  "kernelspec": {
   "display_name": "Python 3",
   "language": "python",
   "name": "python3"
  },
  "language_info": {
   "codemirror_mode": {
    "name": "ipython",
    "version": 3
   },
   "file_extension": ".py",
   "mimetype": "text/x-python",
   "name": "python",
   "nbconvert_exporter": "python",
   "pygments_lexer": "ipython3",
   "version": "3.8.5"
  }
 },
 "nbformat": 4,
 "nbformat_minor": 5
}
