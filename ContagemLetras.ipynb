{
 "cells": [
  {
   "cell_type": "markdown",
   "id": "alpha-effectiveness",
   "metadata": {},
   "source": [
    "Criar uma função recursiva que faça a contagem do número de vezes que uma determinada letra aparece em um texto"
   ]
  },
  {
   "cell_type": "code",
   "execution_count": 3,
   "id": "brave-building",
   "metadata": {},
   "outputs": [
    {
     "data": {
      "text/plain": [
       "10"
      ]
     },
     "execution_count": 3,
     "metadata": {},
     "output_type": "execute_result"
    }
   ],
   "source": [
    "def contaletras(texto,letra):\n",
    "    if len(texto) == 0:\n",
    "        return 0\n",
    "    else:\n",
    "        if texto[0] == letra:\n",
    "            return 1 + contaletras(texto[1:len(texto)],letra)\n",
    "        else:\n",
    "            return contaletras(texto[1:len(texto)],letra)\n",
    "contaletras(\"Vamos contar o número de a na palavra palavra\",\"a\")"
   ]
  }
 ],
 "metadata": {
  "kernelspec": {
   "display_name": "Python 3",
   "language": "python",
   "name": "python3"
  },
  "language_info": {
   "codemirror_mode": {
    "name": "ipython",
    "version": 3
   },
   "file_extension": ".py",
   "mimetype": "text/x-python",
   "name": "python",
   "nbconvert_exporter": "python",
   "pygments_lexer": "ipython3",
   "version": "3.8.5"
  }
 },
 "nbformat": 4,
 "nbformat_minor": 5
}
